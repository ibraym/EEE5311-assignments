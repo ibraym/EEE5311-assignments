{
 "cells": [
  {
   "attachments": {},
   "cell_type": "markdown",
   "metadata": {},
   "source": [
    "> ### Digital Communications Systems (3C) - Kraft inequality (verification function)\n",
    "\n",
    "> - Student Name: *Ibrahem Mouhamad*  \n",
    "> - Student ID: *22PGR0004*\n",
    "\n",
    "Function to verify the Kraft Inequality of a given array"
   ]
  },
  {
   "cell_type": "code",
   "execution_count": 2,
   "metadata": {},
   "outputs": [
    {
     "name": "stdout",
     "output_type": "stream",
     "text": [
      "The lengths: [ 1 ,   2 ,   3 ,   3 ] satisfies Kraft inequality\n",
      "\n",
      "The lengths: [ 1 ,   2 ,   2 ,   2 ] does not satisfy Kraft inequality\n",
      "\n",
      "The lengths: [ 1 ,   2 ,   2 ] satisfies Kraft inequality\n",
      "\n"
     ]
    }
   ],
   "source": [
    "def kraft_inequality_verification( Lj: list ):\n",
    "    # calculate the sum\n",
    "    sum = 0\n",
    "    for j in Lj:\n",
    "        sum += 2**-j\n",
    "    # if the sume lower than or equal to one then the array satisfies K.I\n",
    "    if sum <= 1:\n",
    "        return print(\"The lengths: \" + \" \".join(str(Lj)) + \" satisfies Kraft inequality\\n\")\n",
    "    else:\n",
    "        return print(\"The lengths: \" + \" \".join(str(Lj)) + \" does not satisfy Kraft inequality\\n\")\n",
    "\n",
    "if __name__ == '__main__':\n",
    "    # Tests\n",
    "    ## The array satisfies K.I \n",
    "    Lj = [1,2,3,3]\n",
    "    kraft_inequality_verification(Lj)\n",
    "\n",
    "    ## The array does not satisfy K.I\n",
    "    Lj = [1,2,2,2]\n",
    "    kraft_inequality_verification(Lj)\n",
    "\n",
    "    ## The array satisfies K.I \n",
    "    Lj = [1,2,2]\n",
    "    kraft_inequality_verification(Lj)"
   ]
  }
 ],
 "metadata": {
  "kernelspec": {
   "display_name": "Python 3",
   "language": "python",
   "name": "python3"
  },
  "language_info": {
   "codemirror_mode": {
    "name": "ipython",
    "version": 3
   },
   "file_extension": ".py",
   "mimetype": "text/x-python",
   "name": "python",
   "nbconvert_exporter": "python",
   "pygments_lexer": "ipython3",
   "version": "3.10.6 (main, Nov 14 2022, 16:10:14) [GCC 11.3.0]"
  },
  "orig_nbformat": 4,
  "vscode": {
   "interpreter": {
    "hash": "31f2aee4e71d21fbe5cf8b01ff0e069b9275f58929596ceb00d14d90e3e16cd6"
   }
  }
 },
 "nbformat": 4,
 "nbformat_minor": 2
}
