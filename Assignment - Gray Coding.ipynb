{
 "cells": [
  {
   "attachments": {},
   "cell_type": "markdown",
   "metadata": {},
   "source": [
    "> ### Digital Communications Systems (3C) - Assignment - Gray Coding\n",
    ">\n",
    "> - Student Name: *Ibrahem Mouhamad*  \n",
    "> - Student ID: *22PGR0004*\n",
    "\n",
    "Python function that generates a symbol mapping for a given bit stream using the Gray coding principle, where the input is the bit stream, the Pulse-amplitude modulation (PAM) level, and the bit duration.\n",
    "- The code includes input validation to ensure that the inputs are valid and raises an error if any of these conditions is not met.\n",
    "- Then, it uses a for loop to iterate through all possible integers from 0 to 2^k (where k is the number of bits per symbol). For each integer, it calculates the Gray code symbol by performing a bitwise exclusive-or (XOR) operation between the integer and its right-shifted version.\n",
    "- it maps the bits to symbols by using the Gray code mapping and the pam level."
   ]
  },
  {
   "cell_type": "code",
   "execution_count": 12,
   "metadata": {},
   "outputs": [
    {
     "name": "stdout",
     "output_type": "stream",
     "text": [
      "\n",
      "Bit stream: 01101100\n",
      "PAM levels = 4\n",
      "Symbol Mapping:\n",
      "| Code   | Symbol     |\n",
      "-----------------------\n",
      "| 10     | 3d         |\n",
      "-----------------------\n",
      "| 11     | 1d         |\n",
      "-----------------------\n",
      "| 01     | -1d         |\n",
      "-----------------------\n",
      "| 00     | -3d         |\n",
      "-----------------------\n",
      "\n",
      "Bit stream: 011001100000111101110\n",
      "PAM levels = 8\n",
      "Symbol Mapping:\n",
      "| Code   | Symbol     |\n",
      "-----------------------\n",
      "| 101    | 7d         |\n",
      "-----------------------\n",
      "| 100    | 5d         |\n",
      "-----------------------\n",
      "| 110    | 3d         |\n",
      "-----------------------\n",
      "| 111    | 1d         |\n",
      "-----------------------\n",
      "| 011    | -3d         |\n",
      "-----------------------\n",
      "| 001    | -5d         |\n",
      "-----------------------\n",
      "| 000    | -7d         |\n",
      "-----------------------\n"
     ]
    }
   ],
   "source": [
    "import math\n",
    "from collections import OrderedDict\n",
    "\n",
    "def gray_symbol_mapping(bit_stream, pam_level, bit_duration):\n",
    "    # Validate input\n",
    "    if not (isinstance(pam_level, int) and pam_level > 2 and pam_level % 2 == 0):\n",
    "        raise ValueError(\"PAM level must be a positive even integer and larger than 2\")\n",
    "    if not (isinstance(bit_stream, str) and set(bit_stream).issubset({'0', '1'})):\n",
    "        raise ValueError(\"Bit stream must be a string of 0s and 1s\")\n",
    "\n",
    "    # number of bits per symbol\n",
    "    k = int(math.log(pam_level,2))\n",
    "    if len(bit_stream) % k != 0:\n",
    "        raise ValueError(\"Bit stream length must be a multiple of the number of bits per symbol {} for the selected PAM level {}.\".format(k, pam_level))\n",
    "\n",
    "    # symbol duration\n",
    "    symbol_duration = k*bit_duration\n",
    "\n",
    "    # Generate the Gray code mapping\n",
    "    mapping = {}\n",
    "    for i in range(2**k):\n",
    "        mapping[i] = i ^ (i >> 1)\n",
    "\n",
    "    symbol_stream = {}\n",
    "    # Map the bits to symbols\n",
    "    for i in range(0, len(bit_stream), k):\n",
    "        bits = bit_stream[i:i+k]\n",
    "        m = mapping[int(bits, 2)] + 1\n",
    "        symbol = 2*m - 1 - pam_level\n",
    "        symbol_stream[symbol] = bits\n",
    "\n",
    "    return symbol_stream\n",
    "\n",
    "def print_symbol_mapping(symbol_stream) -> None:\n",
    "    print (\"Symbol Mapping:\")\n",
    "    print (\"| {:<6} | {:<10} |\".format('Code','Symbol'))\n",
    "    print(\"-----------------------\")\n",
    "    # represent the symbol using the distance between adjusted amplitude levels d\n",
    "    symbol_stream = OrderedDict(sorted(symbol_stream.items(), reverse=True))\n",
    "    for symbol in symbol_stream.keys():\n",
    "        print (\"| {:<6} | {}d{:<8} |\".format(symbol_stream[symbol], symbol,''))\n",
    "        print(\"-----------------------\")\n",
    "\n",
    "if __name__ == '__main__':\n",
    "    # Case 1\n",
    "    input_stream = '01101100'\n",
    "    pam = 4\n",
    "    symbol_mapping = gray_symbol_mapping(input_stream, pam, 0.5)\n",
    "    print('\\nBit stream: {}'.format(input_stream))\n",
    "    print('PAM levels = {}'.format(pam))\n",
    "    print_symbol_mapping(symbol_mapping)\n",
    "\n",
    "    # Case 2\n",
    "    input_stream = '011001100000111101110'\n",
    "    pam = 8\n",
    "    symbol_mapping = gray_symbol_mapping(input_stream, pam, 0.5)\n",
    "    print('\\nBit stream: {}'.format(input_stream))\n",
    "    print('PAM levels = {}'.format(pam))\n",
    "    print_symbol_mapping(symbol_mapping)"
   ]
  }
 ],
 "metadata": {
  "kernelspec": {
   "display_name": ".env",
   "language": "python",
   "name": "python3"
  },
  "language_info": {
   "codemirror_mode": {
    "name": "ipython",
    "version": 3
   },
   "file_extension": ".py",
   "mimetype": "text/x-python",
   "name": "python",
   "nbconvert_exporter": "python",
   "pygments_lexer": "ipython3",
   "version": "3.10.6 (main, Nov 14 2022, 16:10:14) [GCC 11.3.0]"
  },
  "orig_nbformat": 4,
  "vscode": {
   "interpreter": {
    "hash": "9a34e7c9520b20ff29fe3cf5c5e085653c8eff59a985205d89f956f19602b71e"
   }
  }
 },
 "nbformat": 4,
 "nbformat_minor": 2
}
